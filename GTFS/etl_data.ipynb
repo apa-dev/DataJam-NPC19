{
 "cells": [
  {
   "cell_type": "markdown",
   "metadata": {},
   "source": [
    "# Donwload and extract GTFS data\n",
    "\n",
    "## PLEASE DO NOT RUN THIS ON THE HOSTED AZURE NOTEBOOK!"
   ]
  },
  {
   "cell_type": "code",
   "execution_count": 1,
   "metadata": {},
   "outputs": [],
   "source": [
    "import requests\n",
    "import time\n",
    "import os\n",
    "import zipfile"
   ]
  },
  {
   "cell_type": "code",
   "execution_count": 2,
   "metadata": {},
   "outputs": [],
   "source": [
    "def etl_data(sources):\n",
    "    for i in sources:\n",
    "        directory = os.path.join(os.path.abspath(os.path.curdir), f'data/downloads/{i[0]}')\n",
    "        if not os.path.exists(directory):\n",
    "            os.makedirs(directory)\n",
    "        time.sleep(0.25)  # be polite\n",
    "        try:\n",
    "            print(f'Downloading {i[1]}')\n",
    "            req = requests.get(i[1], stream=True)\n",
    "        except Exception as exc:\n",
    "            print(f'Error attempting to download {i[1]}\\nStatus code: {req.status_code}')\n",
    "        filepath = os.path.join(directory, f'{i[0]}.zip')\n",
    "        with open(filepath, 'wb') as fp:\n",
    "            for chunk in req.iter_content(chunk_size=1024):\n",
    "                if chunk:\n",
    "                    fp.write(chunk)\n",
    "        print(f\"Extracting {filepath}\")\n",
    "        try:\n",
    "            zf = zipfile.ZipFile(filepath)\n",
    "            zf.extractall(os.path.dirname(os.path.abspath(filepath)))\n",
    "        except zipfile.BadZipFile:\n",
    "            print(f'Unable to extract {filepath}: Bad zip file')"
   ]
  },
  {
   "cell_type": "code",
   "execution_count": 3,
   "metadata": {},
   "outputs": [],
   "source": [
    "sources = [\n",
    "    ('sfmta', 'https://gtfs.sfmta.com/transitdata/google_transit.zip'),\n",
    "    ('bart', 'http://www.bart.gov/dev/schedules/google_transit.zip'),\n",
    "    ('caltrain', 'http://www.caltrain.com/Assets/GTFS/caltrain/CT-GTFS.zip'),\n",
    "    ('ac-transit', 'http://www.actransit.org/wp-content/uploads/GTFSFall18.zip'),\n",
    "    ('capital-corridor', 'http://www.capitolcorridor.org/googletransit/google_transit.zip'),\n",
    "    ('palo-alto-shuttle', 'http://mjcaction.com/MJC_GTFS_Public/cityofpaloalto_google_transit.zip'),\n",
    "    ('commuteorg-san-mateo', 'http://www.commute.org/files/gtfs/Masterzip.zip'),\n",
    "    ('cccta', 'http://cccta.org/GTFS/google_transit.zip'),\n",
    "    ('emery-go-round', 'http://data.trilliumtransit.com/gtfs/emerygoround-ca-us/emerygoround-ca-us.zip'),\n",
    "    ('fast-transit', 'http://data.trilliumtransit.com/gtfs/fairfield-ca-us/fairfield-ca-us.zip'),\n",
    "    ('golden-gate-transit', 'https://realtime.goldengate.org/gtfsstatic/GTFSTransitData.zip'),\n",
    "    ('wheels-bus', 'http://webwatch.lavta.org/TMGTFSRealTimeWebService/GTFS-Static/google_transit.zip'),\n",
    "    ('marin-transit', 'http://www.marintransit.org/data/google_transit.zip'),\n",
    "    ('mission-bay-tma', 'http://data.trilliumtransit.com/gtfs/missionbaytma-ca-us/missionbaytma-ca-us.zip'),\n",
    "    ('mvgo-mountain-view', 'http://data.trilliumtransit.com/gtfs/mountainview-ca-us/mountainview-ca-us.zip'),\n",
    "    ('petaluma-transit', 'http://data.trilliumtransit.com/gtfs/petalumatransit-petaluma-ca-us/petalumatransit-petaluma-ca-us.zip'),\n",
    "    ('rio-vista-delta-breeze', 'http://data.trilliumtransit.com/gtfs/riovista-ca-us/riovista-ca-us.zip'),\n",
    "    ('samtrans', 'http://www.samtrans.com/Assets/GTFS/samtrans/ST-GTFS.zip'),\n",
    "    ('santa-clara-vta', 'http://www.vta.org/sfc/servlet.shepherd/document/download/069A0000001NUea'),\n",
    "    ('soltrans', 'http://data.trilliumtransit.com/gtfs/soltrans-ca-us/soltrans-ca-us.zip'),\n",
    "    ('sonoma-county-transit', 'http://data.trilliumtransit.com/gtfs/sonomacounty-ca-us/sonomacounty-ca-us.zip'),\n",
    "    ('stanford-marguerite-shuttle', 'https://transportation-forms.stanford.edu/google/google_transit.zip'),\n",
    "    ('tideline-water-taxi', 'http://trilliumtransit.com/transit_feeds/tidelinewatertaxi-ca-us/tidelinewatertaxi-ca-us.zip'),\n",
    "    ('tri-delta-transit', 'http://70.232.147.132/rtt/public/utility/gtfs.aspx'),\n",
    "    ('westcat', 'http://data.trilliumtransit.com/gtfs/westcat-ca-us/westcat-ca-us.zip')\n",
    "]"
   ]
  },
  {
   "cell_type": "code",
   "execution_count": 4,
   "metadata": {},
   "outputs": [
    {
     "name": "stdout",
     "output_type": "stream",
     "text": [
      "Downloading https://gtfs.sfmta.com/transitdata/google_transit.zip\n",
      "Extracting /Users/cmollet/projects/github.com/apa-dev/DataJam-NPC19/GTFS/data/downloads/sfmta/sfmta.zip\n",
      "Downloading http://www.bart.gov/dev/schedules/google_transit.zip\n",
      "Extracting /Users/cmollet/projects/github.com/apa-dev/DataJam-NPC19/GTFS/data/downloads/bart/bart.zip\n",
      "Downloading http://www.caltrain.com/Assets/GTFS/caltrain/CT-GTFS.zip\n",
      "Extracting /Users/cmollet/projects/github.com/apa-dev/DataJam-NPC19/GTFS/data/downloads/caltrain/caltrain.zip\n",
      "Downloading http://www.actransit.org/wp-content/uploads/GTFSFall18.zip\n",
      "Extracting /Users/cmollet/projects/github.com/apa-dev/DataJam-NPC19/GTFS/data/downloads/ac-transit/ac-transit.zip\n",
      "Downloading http://www.capitolcorridor.org/googletransit/google_transit.zip\n",
      "Extracting /Users/cmollet/projects/github.com/apa-dev/DataJam-NPC19/GTFS/data/downloads/capital-corridor/capital-corridor.zip\n",
      "Downloading http://mjcaction.com/MJC_GTFS_Public/cityofpaloalto_google_transit.zip\n",
      "Extracting /Users/cmollet/projects/github.com/apa-dev/DataJam-NPC19/GTFS/data/downloads/palo-alto-shuttle/palo-alto-shuttle.zip\n",
      "Downloading http://www.commute.org/files/gtfs/Masterzip.zip\n",
      "Extracting /Users/cmollet/projects/github.com/apa-dev/DataJam-NPC19/GTFS/data/downloads/commuteorg-san-mateo/commuteorg-san-mateo.zip\n",
      "Downloading http://cccta.org/GTFS/google_transit.zip\n",
      "Extracting /Users/cmollet/projects/github.com/apa-dev/DataJam-NPC19/GTFS/data/downloads/cccta/cccta.zip\n",
      "Unable to extract /Users/cmollet/projects/github.com/apa-dev/DataJam-NPC19/GTFS/data/downloads/cccta/cccta.zip: Bad zip file\n",
      "Downloading http://data.trilliumtransit.com/gtfs/emerygoround-ca-us/emerygoround-ca-us.zip\n",
      "Extracting /Users/cmollet/projects/github.com/apa-dev/DataJam-NPC19/GTFS/data/downloads/emery-go-round/emery-go-round.zip\n",
      "Downloading http://data.trilliumtransit.com/gtfs/fairfield-ca-us/fairfield-ca-us.zip\n",
      "Extracting /Users/cmollet/projects/github.com/apa-dev/DataJam-NPC19/GTFS/data/downloads/fast-transit/fast-transit.zip\n",
      "Downloading https://realtime.goldengate.org/gtfsstatic/GTFSTransitData.zip\n",
      "Extracting /Users/cmollet/projects/github.com/apa-dev/DataJam-NPC19/GTFS/data/downloads/golden-gate-transit/golden-gate-transit.zip\n",
      "Downloading http://webwatch.lavta.org/TMGTFSRealTimeWebService/GTFS-Static/google_transit.zip\n",
      "Extracting /Users/cmollet/projects/github.com/apa-dev/DataJam-NPC19/GTFS/data/downloads/wheels-bus/wheels-bus.zip\n",
      "Downloading http://www.marintransit.org/data/google_transit.zip\n",
      "Extracting /Users/cmollet/projects/github.com/apa-dev/DataJam-NPC19/GTFS/data/downloads/marin-transit/marin-transit.zip\n",
      "Downloading http://data.trilliumtransit.com/gtfs/missionbaytma-ca-us/missionbaytma-ca-us.zip\n",
      "Extracting /Users/cmollet/projects/github.com/apa-dev/DataJam-NPC19/GTFS/data/downloads/mission-bay-tma/mission-bay-tma.zip\n",
      "Downloading http://data.trilliumtransit.com/gtfs/mountainview-ca-us/mountainview-ca-us.zip\n",
      "Extracting /Users/cmollet/projects/github.com/apa-dev/DataJam-NPC19/GTFS/data/downloads/mvgo-mountain-view/mvgo-mountain-view.zip\n",
      "Downloading http://data.trilliumtransit.com/gtfs/petalumatransit-petaluma-ca-us/petalumatransit-petaluma-ca-us.zip\n",
      "Extracting /Users/cmollet/projects/github.com/apa-dev/DataJam-NPC19/GTFS/data/downloads/petaluma-transit/petaluma-transit.zip\n",
      "Downloading http://data.trilliumtransit.com/gtfs/riovista-ca-us/riovista-ca-us.zip\n",
      "Extracting /Users/cmollet/projects/github.com/apa-dev/DataJam-NPC19/GTFS/data/downloads/rio-vista-delta-breeze/rio-vista-delta-breeze.zip\n",
      "Downloading http://www.samtrans.com/Assets/GTFS/samtrans/ST-GTFS.zip\n",
      "Extracting /Users/cmollet/projects/github.com/apa-dev/DataJam-NPC19/GTFS/data/downloads/samtrans/samtrans.zip\n",
      "Downloading http://www.vta.org/sfc/servlet.shepherd/document/download/069A0000001NUea\n",
      "Extracting /Users/cmollet/projects/github.com/apa-dev/DataJam-NPC19/GTFS/data/downloads/santa-clara-vta/santa-clara-vta.zip\n",
      "Downloading http://data.trilliumtransit.com/gtfs/soltrans-ca-us/soltrans-ca-us.zip\n",
      "Extracting /Users/cmollet/projects/github.com/apa-dev/DataJam-NPC19/GTFS/data/downloads/soltrans/soltrans.zip\n",
      "Downloading http://data.trilliumtransit.com/gtfs/sonomacounty-ca-us/sonomacounty-ca-us.zip\n",
      "Extracting /Users/cmollet/projects/github.com/apa-dev/DataJam-NPC19/GTFS/data/downloads/sonoma-county-transit/sonoma-county-transit.zip\n",
      "Downloading https://transportation-forms.stanford.edu/google/google_transit.zip\n",
      "Extracting /Users/cmollet/projects/github.com/apa-dev/DataJam-NPC19/GTFS/data/downloads/stanford-marguerite-shuttle/stanford-marguerite-shuttle.zip\n",
      "Downloading http://trilliumtransit.com/transit_feeds/tidelinewatertaxi-ca-us/tidelinewatertaxi-ca-us.zip\n",
      "Extracting /Users/cmollet/projects/github.com/apa-dev/DataJam-NPC19/GTFS/data/downloads/tideline-water-taxi/tideline-water-taxi.zip\n",
      "Downloading http://70.232.147.132/rtt/public/utility/gtfs.aspx\n",
      "Extracting /Users/cmollet/projects/github.com/apa-dev/DataJam-NPC19/GTFS/data/downloads/tri-delta-transit/tri-delta-transit.zip\n",
      "Downloading http://data.trilliumtransit.com/gtfs/westcat-ca-us/westcat-ca-us.zip\n",
      "Extracting /Users/cmollet/projects/github.com/apa-dev/DataJam-NPC19/GTFS/data/downloads/westcat/westcat.zip\n"
     ]
    }
   ],
   "source": [
    "etl_data(sources)"
   ]
  },
  {
   "cell_type": "code",
   "execution_count": null,
   "metadata": {},
   "outputs": [],
   "source": []
  }
 ],
 "metadata": {
  "kernelspec": {
   "display_name": "Python 3",
   "language": "python",
   "name": "python3"
  },
  "language_info": {
   "codemirror_mode": {
    "name": "ipython",
    "version": 3
   },
   "file_extension": ".py",
   "mimetype": "text/x-python",
   "name": "python",
   "nbconvert_exporter": "python",
   "pygments_lexer": "ipython3",
   "version": "3.7.3"
  }
 },
 "nbformat": 4,
 "nbformat_minor": 2
}
