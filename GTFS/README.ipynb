{
 "cells": [
  {
   "cell_type": "markdown",
   "metadata": {},
   "source": [
    "# GTFS\n",
    "\n",
    "## What is it?\n",
    "\n",
    "General Transit Feed Specification is an open data format for public transit data [originally developed by Google](https://developers.google.com/transit/gtfs/) (the **G** formerly stood for Google) to standardize transit data for use in routing on Google Maps (as one of the travel choices alongside car, bike, walk). \n",
    "\n",
    "There are two basic types of GTFS data, static and realtime - realtime, as the name implies provides real-time tracking of GPS or other location-enabled vehicles/train cars and is the source of real-time bus/train tracking apps. Static GTFS data lists the routes, stops, and schedules that comprise a transit agency's service and would allow you to plan a trip via transit in advance.\n",
    "\n",
    "GTFS static data is great for offline analysis of a transit system. See this [(Wayback Machine-archived) blog post](https://web.archive.org/web/20131231193356/https://openplans.org/2012/08/the-openplans-guide-to-gtfs-data/) from OpenPlans for some ideas."
   ]
  },
  {
   "cell_type": "code",
   "execution_count": null,
   "metadata": {},
   "outputs": [],
   "source": []
  }
 ],
 "metadata": {
  "kernelspec": {
   "display_name": "Python 3",
   "language": "python",
   "name": "python3"
  },
  "language_info": {
   "codemirror_mode": {
    "name": "ipython",
    "version": 3
   },
   "file_extension": ".py",
   "mimetype": "text/x-python",
   "name": "python",
   "nbconvert_exporter": "python",
   "pygments_lexer": "ipython3",
   "version": "3.7.2"
  }
 },
 "nbformat": 4,
 "nbformat_minor": 2
}
