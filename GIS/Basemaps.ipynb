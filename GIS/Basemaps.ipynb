{
 "cells": [
  {
   "cell_type": "markdown",
   "metadata": {},
   "source": [
    "# Basemaps\n",
    "\n",
    "This will download some basemap layers from data.sfgov.org"
   ]
  },
  {
   "cell_type": "code",
   "execution_count": 2,
   "metadata": {},
   "outputs": [],
   "source": [
    "street_layers = [\n",
    "    ('right-of-way-polygons', 'https://data.sfgov.org/api/geospatial/a2mg-gwmg?method=export&format=Original'),\n",
    "    ('speed-limits', 'https://data.sfgov.org/api/geospatial/v3z4-r53p?method=export&format=Shapefile'),\n",
    "    ('roadway-structures', 'https://data.sfgov.org/api/geospatial/bnax-tqec?method=export&format=Original'),\n",
    "    ('city-curbs-and-islands', 'https://data.sfgov.org/api/geospatial/4s5e-m4gv?method=export&format=Original'),\n",
    "    ('street-nodes', 'https://data.sfgov.org/api/geospatial/42wr-v79p?method=export&format=Original'),\n",
    "    ('stop-signs', 'https://data.sfgov.org/api/geospatial/ddtz-jevd?method=export&format=Shapefile'),\n",
    "    ('traffic-calming', 'https://data.sfgov.org/api/geospatial/ddye-rism?method=export&format=Original'),\n",
    "    ('traffic-signals', 'https://data.sfgov.org/api/geospatial/4abk-vggy?method=export&format=Shapefile'),\n",
    "    ('bikeway-network', 'https://data.sfgov.org/api/geospatial/4jy4-tbju?method=export&format=Shapefile'),\n",
    "    ('bart-bus-routes', 'http://www.dot.ca.gov/hq/tsip/gis/datalibrary/zip/rail/BART_13.zip'),\n",
    "    ('bart-bus-stations', 'http://www.dot.ca.gov/hq/tsip/gis/datalibrary/zip/rail/BART_Sta_13.zip'),\n",
    "    ('ca-passenger-rail-routes', 'http://www.dot.ca.gov/hq/tsip/gis/datalibrary/zip/rail/RR_Commuter_13.zip'),\n",
    "    ('ca-passenger-rail-stations', 'http://www.dot.ca.gov/hq/tsip/gis/datalibrary/zip/rail/RR_CommuterSta_13.zip')\n",
    "]\n",
    "\n",
    "mta_layers = [\n",
    "    ('muni-simple-routes', 'https://data.sfgov.org/api/geospatial/3d4q-xsqr?method=export&format=Shapefile'),\n",
    "    ('muni-stops', 'https://data.sfgov.org/api/geospatial/cuzd-s8u7?method=export&format=Shapefile'),\n",
    "    ('walkfirst-intersections', 'https://data.sfgov.org/api/geospatial/9rn3-wapn?method=export&format=Shapefile'),\n",
    "    ('bike-parking', 'https://data.sfgov.org/api/geospatial/saun-tif7?method=export&format=Shapefile'),\n",
    "    ('bikeway-network-point-features', 'https://data.sfgov.org/api/geospatial/msjm-67c8?method=export&format=Shapefile'),\n",
    "    ('clearance-heights', 'https://data.sfgov.org/api/geospatial/xuj3-c82m?method=export&format=Shapefile'),\n",
    "    ('colorcurb', 'https://data.sfgov.org/api/geospatial/iduc-uh45?method=export&format=Shapefile'),\n",
    "    ('commuter-shuttle-stops', 'https://data.sfgov.org/api/geospatial/r5df-tnw7?method=export&format=Shapefile'),\n",
    "    ('greenwave-signals', 'https://data.sfgov.org/api/geospatial/uu79-uvp2?method=export&format=Shapefile'),\n",
    "    ('greenwave-streets', 'https://data.sfgov.org/api/geospatial/q7yh-adgc?method=export&format=Shapefile'),\n",
    "    ('metered-block-faces', 'https://data.sfgov.org/api/geospatial/sr6m-mebn?method=export&format=Shapefile'),\n",
    "    ('meters', 'https://data.sfgov.org/api/geospatial/9nmm-kn44?method=export&format=Shapefile'),\n",
    "    ('motoparking-unmetered', 'https://data.sfgov.org/api/geospatial/44tz-8bvs?method=export&format=Shapefile'),\n",
    "    ('painted-safety-zones', 'https://data.sfgov.org/api/geospatial/qqnk-bwbc?method=export&format=Shapefile'),\n",
    "    ('parking-census-offstreet', 'https://data.sfgov.org/api/geospatial/dkzc-uy8h?method=export&format=Shapefile'),\n",
    "    ('pedestrian-volume-model', 'https://data.sfgov.org/api/geospatial/sssq-ue9v?method=export&format=Shapefile'),\n",
    "    ('sidewalk-widths', 'https://data.sfgov.org/api/geospatial/2hbn-gmjm?method=export&format=Shapefile'),\n",
    "    ('speedbumps', 'https://data.sfgov.org/api/geospatial/n6mb-fy2s?method=export&format=Shapefile'),\n",
    "    ('transit-only-lanes', 'https://data.sfgov.org/api/geospatial/ytpa-q7xx?method=export&format=Shapefile'),\n",
    "    ('vehicle-restrictions', 'https://data.sfgov.org/api/geospatial/n4by-rk3x?method=export&format=Shapefile'),\n",
    "]\n",
    "\n",
    "# Annual Average Daily Traffic\n",
    "aadt = [\n",
    "    ('aadt2010', 'http://www.dot.ca.gov/hq/tsip/gis/datalibrary/zip/highway/AADT2010.zip'),\n",
    "    ('aadt2011', 'http://www.dot.ca.gov/hq/tsip/gis/datalibrary/zip/highway/AADT2011.zip'),\n",
    "    ('aadt2012', 'http://www.dot.ca.gov/hq/tsip/gis/datalibrary/zip/highway/AADT2012.zip'),\n",
    "    ('aadt2013', 'http://www.dot.ca.gov/hq/tsip/gis/datalibrary/zip/highway/AADT2013.zip'),\n",
    "    ('aadt2014', 'http://www.dot.ca.gov/hq/tsip/gis/datalibrary/zip/highway/AADT2014.zip'),\n",
    "    ('aadt2015', 'http://www.dot.ca.gov/hq/tsip/gis/datalibrary/zip/highway/AADT2015.zip'),\n",
    "    ('aadt2016', 'http://www.dot.ca.gov/hq/tsip/gis/datalibrary/zip/highway/AADT2016.zip'),\n",
    "    ('aadt2017', 'http://www.dot.ca.gov/hq/tsip/gis/datalibrary/zip/highway/AADT2017.zip')\n",
    "]\n"
   ]
  },
  {
   "cell_type": "code",
   "execution_count": 5,
   "metadata": {},
   "outputs": [],
   "source": [
    "import requests\n",
    "import time\n",
    "import os\n",
    "import zipfile"
   ]
  },
  {
   "cell_type": "code",
   "execution_count": 17,
   "metadata": {},
   "outputs": [],
   "source": [
    "def etl_data(sources):\n",
    "    for i in sources:\n",
    "        directory = os.path.join(os.path.abspath(os.path.curdir), f'data/downloads/{i[0]}')\n",
    "        if not os.path.exists(directory):\n",
    "            os.makedirs(directory)\n",
    "        time.sleep(0.25)  # be polite\n",
    "        try:\n",
    "            print(f'Downloading {i[1]}')\n",
    "            req = requests.get(i[1], stream=True)\n",
    "        except Exception as exc:\n",
    "            print(f'Error attempting to download {i[1]}\\nStatus code: {req.status_code}')\n",
    "        filepath = os.path.join(directory, f'{i[0]}.zip')\n",
    "        with open(filepath, 'wb') as fp:\n",
    "            for chunk in req.iter_content(chunk_size=1024):\n",
    "                if chunk:\n",
    "                    fp.write(chunk)\n",
    "        print(f\"Extracting {filepath}\")\n",
    "        try:\n",
    "            zf = zipfile.ZipFile(filepath)\n",
    "            zf.extractall(os.path.dirname(os.path.abspath(filepath)))\n",
    "        except zipfile.BadZipFile:\n",
    "            print(f'Unable to extract {filepath}: Bad zip file')\n"
   ]
  },
  {
   "cell_type": "code",
   "execution_count": 13,
   "metadata": {
    "scrolled": true
   },
   "outputs": [
    {
     "name": "stdout",
     "output_type": "stream",
     "text": [
      "Downloading http://www.dot.ca.gov/hq/tsip/gis/datalibrary/zip/highway/AADT2010.zip\n",
      "Extracting /Users/cmollet/projects/github.com/apa-dev/DataJam-NPC19/GIS/data/downloads/aadt2010/aadt2010.zip\n",
      "Downloading http://www.dot.ca.gov/hq/tsip/gis/datalibrary/zip/highway/AADT2011.zip\n",
      "Extracting /Users/cmollet/projects/github.com/apa-dev/DataJam-NPC19/GIS/data/downloads/aadt2011/aadt2011.zip\n",
      "Downloading http://www.dot.ca.gov/hq/tsip/gis/datalibrary/zip/highway/AADT2012.zip\n",
      "Extracting /Users/cmollet/projects/github.com/apa-dev/DataJam-NPC19/GIS/data/downloads/aadt2012/aadt2012.zip\n",
      "Downloading http://www.dot.ca.gov/hq/tsip/gis/datalibrary/zip/highway/AADT2013.zip\n",
      "Extracting /Users/cmollet/projects/github.com/apa-dev/DataJam-NPC19/GIS/data/downloads/aadt2013/aadt2013.zip\n",
      "Downloading http://www.dot.ca.gov/hq/tsip/gis/datalibrary/zip/highway/AADT2014.zip\n",
      "Extracting /Users/cmollet/projects/github.com/apa-dev/DataJam-NPC19/GIS/data/downloads/aadt2014/aadt2014.zip\n",
      "Downloading http://www.dot.ca.gov/hq/tsip/gis/datalibrary/zip/highway/AADT2015.zip\n",
      "Extracting /Users/cmollet/projects/github.com/apa-dev/DataJam-NPC19/GIS/data/downloads/aadt2015/aadt2015.zip\n",
      "Downloading http://www.dot.ca.gov/hq/tsip/gis/datalibrary/zip/highway/AADT2016.zip\n",
      "Extracting /Users/cmollet/projects/github.com/apa-dev/DataJam-NPC19/GIS/data/downloads/aadt2016/aadt2016.zip\n",
      "Downloading http://www.dot.ca.gov/hq/tsip/gis/datalibrary/zip/highway/AADT2017.zip\n",
      "Extracting /Users/cmollet/projects/github.com/apa-dev/DataJam-NPC19/GIS/data/downloads/aadt2017/aadt2017.zip\n"
     ]
    }
   ],
   "source": [
    "etl_data(aadt)"
   ]
  },
  {
   "cell_type": "code",
   "execution_count": 18,
   "metadata": {
    "scrolled": true
   },
   "outputs": [
    {
     "name": "stdout",
     "output_type": "stream",
     "text": [
      "Downloading https://data.sfgov.org/api/geospatial/a2mg-gwmg?method=export&format=Original\n",
      "Extracting /Users/cmollet/projects/github.com/apa-dev/DataJam-NPC19/GIS/data/downloads/right-of-way-polygons/right-of-way-polygons.zip\n",
      "Downloading https://data.sfgov.org/api/geospatial/v3z4-r53p?method=export&format=Shapefile\n",
      "Extracting /Users/cmollet/projects/github.com/apa-dev/DataJam-NPC19/GIS/data/downloads/speed-limits/speed-limits.zip\n",
      "Downloading https://data.sfgov.org/api/geospatial/bnax-tqec?method=export&format=Original\n",
      "Extracting /Users/cmollet/projects/github.com/apa-dev/DataJam-NPC19/GIS/data/downloads/roadway-structures/roadway-structures.zip\n",
      "Downloading https://data.sfgov.org/api/geospatial/4s5e-m4gv?method=export&format=Original\n",
      "Extracting /Users/cmollet/projects/github.com/apa-dev/DataJam-NPC19/GIS/data/downloads/city-curbs-and-islands/city-curbs-and-islands.zip\n",
      "Downloading https://data.sfgov.org/api/geospatial/42wr-v79p?method=export&format=Original\n",
      "Extracting /Users/cmollet/projects/github.com/apa-dev/DataJam-NPC19/GIS/data/downloads/street-nodes/street-nodes.zip\n",
      "Downloading https://data.sfgov.org/api/geospatial/ddtz-jevd?method=export&format=Shapefile\n",
      "Extracting /Users/cmollet/projects/github.com/apa-dev/DataJam-NPC19/GIS/data/downloads/stop-signs/stop-signs.zip\n",
      "Downloading https://data.sfgov.org/api/geospatial/ddye-rism?method=export&format=Original\n",
      "Extracting /Users/cmollet/projects/github.com/apa-dev/DataJam-NPC19/GIS/data/downloads/traffic-calming/traffic-calming.zip\n",
      "Downloading https://data.sfgov.org/api/geospatial/4abk-vggy?method=export&format=Shapefile\n",
      "Extracting /Users/cmollet/projects/github.com/apa-dev/DataJam-NPC19/GIS/data/downloads/traffic-signals/traffic-signals.zip\n",
      "Downloading https://data.sfgov.org/api/geospatial/4jy4-tbju?method=export&format=Shapefile\n",
      "Extracting /Users/cmollet/projects/github.com/apa-dev/DataJam-NPC19/GIS/data/downloads/bikeway-network/bikeway-network.zip\n",
      "Downloading http://www.dot.ca.gov/hq/tsip/gis/datalibrary/zip/rail/BART_13.zip\n",
      "Extracting /Users/cmollet/projects/github.com/apa-dev/DataJam-NPC19/GIS/data/downloads/bart-bus-routes/bart-bus-routes.zip\n",
      "Downloading http://www.dot.ca.gov/hq/tsip/gis/datalibrary/zip/rail/BART_Sta_13.zip\n",
      "Extracting /Users/cmollet/projects/github.com/apa-dev/DataJam-NPC19/GIS/data/downloads/bart-bus-stations/bart-bus-stations.zip\n",
      "Downloading http://www.dot.ca.gov/hq/tsip/gis/datalibrary/zip/rail/RR_Commuter_13.zip\n",
      "Extracting /Users/cmollet/projects/github.com/apa-dev/DataJam-NPC19/GIS/data/downloads/ca-passenger-rail-routes/ca-passenger-rail-routes.zip\n",
      "Downloading http://www.dot.ca.gov/hq/tsip/gis/datalibrary/zip/rail/RR_CommuterSta_13.zip\n",
      "Extracting /Users/cmollet/projects/github.com/apa-dev/DataJam-NPC19/GIS/data/downloads/ca-passenger-rail-stations/ca-passenger-rail-stations.zip\n"
     ]
    }
   ],
   "source": [
    "etl_data(street_layers)"
   ]
  },
  {
   "cell_type": "code",
   "execution_count": 19,
   "metadata": {},
   "outputs": [
    {
     "name": "stdout",
     "output_type": "stream",
     "text": [
      "Downloading https://data.sfgov.org/api/geospatial/3d4q-xsqr?method=export&format=Shapefile\n",
      "Extracting /Users/cmollet/projects/github.com/apa-dev/DataJam-NPC19/GIS/data/downloads/muni-simple-routes/muni-simple-routes.zip\n",
      "Downloading https://data.sfgov.org/api/geospatial/cuzd-s8u7?method=export&format=Shapefile\n",
      "Extracting /Users/cmollet/projects/github.com/apa-dev/DataJam-NPC19/GIS/data/downloads/muni-stops/muni-stops.zip\n",
      "Downloading https://data.sfgov.org/api/geospatial/9rn3-wapn?method=export&format=Shapefile\n",
      "Extracting /Users/cmollet/projects/github.com/apa-dev/DataJam-NPC19/GIS/data/downloads/walkfirst-intersections/walkfirst-intersections.zip\n",
      "Downloading https://data.sfgov.org/api/geospatial/saun-tif7?method=export&format=Shapefile\n",
      "Extracting /Users/cmollet/projects/github.com/apa-dev/DataJam-NPC19/GIS/data/downloads/bike-parking/bike-parking.zip\n",
      "Downloading https://data.sfgov.org/api/geospatial/msjm-67c8?method=export&format=Shapefile\n",
      "Extracting /Users/cmollet/projects/github.com/apa-dev/DataJam-NPC19/GIS/data/downloads/bikeway-network-point-features/bikeway-network-point-features.zip\n",
      "Downloading https://data.sfgov.org/api/geospatial/xuj3-c82m?method=export&format=Shapefile\n",
      "Extracting /Users/cmollet/projects/github.com/apa-dev/DataJam-NPC19/GIS/data/downloads/clearance-heights/clearance-heights.zip\n",
      "Downloading https://data.sfgov.org/api/geospatial/iduc-uh45?method=export&format=Shapefile\n",
      "Extracting /Users/cmollet/projects/github.com/apa-dev/DataJam-NPC19/GIS/data/downloads/colorcurb/colorcurb.zip\n",
      "Downloading https://data.sfgov.org/api/geospatial/r5df-tnw7?method=export&format=Shapefile\n",
      "Extracting /Users/cmollet/projects/github.com/apa-dev/DataJam-NPC19/GIS/data/downloads/commuter-shuttle-stops/commuter-shuttle-stops.zip\n",
      "Downloading https://data.sfgov.org/api/geospatial/uu79-uvp2?method=export&format=Shapefile\n",
      "Extracting /Users/cmollet/projects/github.com/apa-dev/DataJam-NPC19/GIS/data/downloads/greenwave-signals/greenwave-signals.zip\n",
      "Downloading https://data.sfgov.org/api/geospatial/q7yh-adgc?method=export&format=Shapefile\n",
      "Extracting /Users/cmollet/projects/github.com/apa-dev/DataJam-NPC19/GIS/data/downloads/greenwave-streets/greenwave-streets.zip\n",
      "Downloading https://data.sfgov.org/api/geospatial/sr6m-mebn?method=export&format=Shapefile\n",
      "Extracting /Users/cmollet/projects/github.com/apa-dev/DataJam-NPC19/GIS/data/downloads/metered-block-faces/metered-block-faces.zip\n",
      "Downloading https://data.sfgov.org/api/geospatial/9nmm-kn44?method=export&format=Shapefile\n",
      "Extracting /Users/cmollet/projects/github.com/apa-dev/DataJam-NPC19/GIS/data/downloads/meters/meters.zip\n",
      "Downloading https://data.sfgov.org/api/geospatial/44tz-8bvs?method=export&format=Shapefile\n",
      "Extracting /Users/cmollet/projects/github.com/apa-dev/DataJam-NPC19/GIS/data/downloads/motoparking-unmetered/motoparking-unmetered.zip\n",
      "Downloading https://data.sfgov.org/api/geospatial/qqnk-bwbc?method=export&format=Shapefile\n",
      "Extracting /Users/cmollet/projects/github.com/apa-dev/DataJam-NPC19/GIS/data/downloads/painted-safety-zones/painted-safety-zones.zip\n",
      "Downloading https://data.sfgov.org/api/geospatial/dkzc-uy8h?method=export&format=Shapefile\n",
      "Extracting /Users/cmollet/projects/github.com/apa-dev/DataJam-NPC19/GIS/data/downloads/parking-census-offstreet/parking-census-offstreet.zip\n",
      "Downloading https://data.sfgov.org/api/geospatial/sssq-ue9v?method=export&format=Shapefile\n",
      "Extracting /Users/cmollet/projects/github.com/apa-dev/DataJam-NPC19/GIS/data/downloads/pedestrian-volume-model/pedestrian-volume-model.zip\n",
      "Downloading https://data.sfgov.org/api/geospatial/2hbn-gmjm?method=export&format=Shapefile\n",
      "Extracting /Users/cmollet/projects/github.com/apa-dev/DataJam-NPC19/GIS/data/downloads/sidewalk-widths/sidewalk-widths.zip\n",
      "Downloading https://data.sfgov.org/api/geospatial/n6mb-fy2s?method=export&format=Shapefile\n",
      "Extracting /Users/cmollet/projects/github.com/apa-dev/DataJam-NPC19/GIS/data/downloads/speedbumps/speedbumps.zip\n",
      "Downloading https://data.sfgov.org/api/geospatial/ytpa-q7xx?method=export&format=Shapefile\n",
      "Extracting /Users/cmollet/projects/github.com/apa-dev/DataJam-NPC19/GIS/data/downloads/transit-only-lanes/transit-only-lanes.zip\n",
      "Downloading https://data.sfgov.org/api/geospatial/n4by-rk3x?method=export&format=Shapefile\n",
      "Extracting /Users/cmollet/projects/github.com/apa-dev/DataJam-NPC19/GIS/data/downloads/vehicle-restrictions/vehicle-restrictions.zip\n"
     ]
    }
   ],
   "source": [
    "etl_data(mta_layers)"
   ]
  },
  {
   "cell_type": "code",
   "execution_count": null,
   "metadata": {},
   "outputs": [],
   "source": []
  }
 ],
 "metadata": {
  "kernelspec": {
   "display_name": "Python 3",
   "language": "python",
   "name": "python3"
  },
  "language_info": {
   "codemirror_mode": {
    "name": "ipython",
    "version": 3
   },
   "file_extension": ".py",
   "mimetype": "text/x-python",
   "name": "python",
   "nbconvert_exporter": "python",
   "pygments_lexer": "ipython3",
   "version": "3.7.3"
  }
 },
 "nbformat": 4,
 "nbformat_minor": 2
}
